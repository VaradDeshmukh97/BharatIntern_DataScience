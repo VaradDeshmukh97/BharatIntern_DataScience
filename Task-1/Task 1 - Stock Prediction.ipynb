{
 "cells": [
  {
   "cell_type": "markdown",
   "id": "1ecaf0b3",
   "metadata": {},
   "source": [
    "# Task 1 - Stock Prediction\n",
    "\n",
    "*Varad Deshmukh*\n",
    "\n",
    "**Instructions** : Take stock price of any company you\n",
    "want and predicts its price by using LSTM. Use only Jupyter notebook code."
   ]
  },
  {
   "cell_type": "markdown",
   "id": "9575a23c",
   "metadata": {},
   "source": [
    "> ## The LSTM Network\n",
    "\n",
    "Long Short Term Memory (LSTM) are a kind of Recurrent Neural Network for learning long-term dependencies. It is commonly used for time-series data. They have four interacting layers, each employing a sigmoid function and a tanh function.\n",
    "\n",
    "In this project, we will build a LSTM model to predict the stock prices of Google."
   ]
  },
  {
   "cell_type": "markdown",
   "id": "49cc3221",
   "metadata": {},
   "source": [
    "> ## Importing the libraries"
   ]
  },
  {
   "cell_type": "code",
   "execution_count": 17,
   "id": "3f28074b",
   "metadata": {},
   "outputs": [],
   "source": [
    "# importing necessary libraries\n",
    "import numpy as np\n",
    "import pandas as pd\n",
    "import matplotlib.pyplot as plt\n",
    "\n",
    "from sklearn.preprocessing import MinMaxScaler\n",
    "from keras.models import Sequential\n",
    "from keras.layers import LSTM, Dense, Dropout"
   ]
  },
  {
   "cell_type": "markdown",
   "id": "656c42c6",
   "metadata": {},
   "source": [
    "> ## Loading the training dataset\n",
    "\n",
    "The Google training data has the stock price data from Jan 3, 2012 to Dec 30, 2016, in a csv file named `Google_Stock_Price_Train.csv`. We load it into a `pandas.DataFrame`"
   ]
  },
  {
   "cell_type": "code",
   "execution_count": 18,
   "id": "e5f6f3d0",
   "metadata": {},
   "outputs": [
    {
     "data": {
      "text/html": [
       "<div>\n",
       "<style scoped>\n",
       "    .dataframe tbody tr th:only-of-type {\n",
       "        vertical-align: middle;\n",
       "    }\n",
       "\n",
       "    .dataframe tbody tr th {\n",
       "        vertical-align: top;\n",
       "    }\n",
       "\n",
       "    .dataframe thead th {\n",
       "        text-align: right;\n",
       "    }\n",
       "</style>\n",
       "<table border=\"1\" class=\"dataframe\">\n",
       "  <thead>\n",
       "    <tr style=\"text-align: right;\">\n",
       "      <th></th>\n",
       "      <th>Date</th>\n",
       "      <th>Open</th>\n",
       "      <th>High</th>\n",
       "      <th>Low</th>\n",
       "      <th>Close</th>\n",
       "      <th>Volume</th>\n",
       "    </tr>\n",
       "  </thead>\n",
       "  <tbody>\n",
       "    <tr>\n",
       "      <th>0</th>\n",
       "      <td>1/3/2012</td>\n",
       "      <td>325.25</td>\n",
       "      <td>332.83</td>\n",
       "      <td>324.97</td>\n",
       "      <td>663.59</td>\n",
       "      <td>7,380,500</td>\n",
       "    </tr>\n",
       "    <tr>\n",
       "      <th>1</th>\n",
       "      <td>1/4/2012</td>\n",
       "      <td>331.27</td>\n",
       "      <td>333.87</td>\n",
       "      <td>329.08</td>\n",
       "      <td>666.45</td>\n",
       "      <td>5,749,400</td>\n",
       "    </tr>\n",
       "    <tr>\n",
       "      <th>2</th>\n",
       "      <td>1/5/2012</td>\n",
       "      <td>329.83</td>\n",
       "      <td>330.75</td>\n",
       "      <td>326.89</td>\n",
       "      <td>657.21</td>\n",
       "      <td>6,590,300</td>\n",
       "    </tr>\n",
       "    <tr>\n",
       "      <th>3</th>\n",
       "      <td>1/6/2012</td>\n",
       "      <td>328.34</td>\n",
       "      <td>328.77</td>\n",
       "      <td>323.68</td>\n",
       "      <td>648.24</td>\n",
       "      <td>5,405,900</td>\n",
       "    </tr>\n",
       "    <tr>\n",
       "      <th>4</th>\n",
       "      <td>1/9/2012</td>\n",
       "      <td>322.04</td>\n",
       "      <td>322.29</td>\n",
       "      <td>309.46</td>\n",
       "      <td>620.76</td>\n",
       "      <td>11,688,800</td>\n",
       "    </tr>\n",
       "  </tbody>\n",
       "</table>\n",
       "</div>"
      ],
      "text/plain": [
       "       Date    Open    High     Low   Close      Volume\n",
       "0  1/3/2012  325.25  332.83  324.97  663.59   7,380,500\n",
       "1  1/4/2012  331.27  333.87  329.08  666.45   5,749,400\n",
       "2  1/5/2012  329.83  330.75  326.89  657.21   6,590,300\n",
       "3  1/6/2012  328.34  328.77  323.68  648.24   5,405,900\n",
       "4  1/9/2012  322.04  322.29  309.46  620.76  11,688,800"
      ]
     },
     "execution_count": 18,
     "metadata": {},
     "output_type": "execute_result"
    }
   ],
   "source": [
    "# load the data\n",
    "stock_train = pd.read_csv('Google_Stock_Price_Train.csv')\n",
    "stock_train.head()"
   ]
  },
  {
   "cell_type": "markdown",
   "id": "1a1e67b6",
   "metadata": {},
   "source": [
    "We will be using the opening stock price column to train our model, so let us separate it out."
   ]
  },
  {
   "cell_type": "code",
   "execution_count": 19,
   "id": "8de40f6b",
   "metadata": {},
   "outputs": [],
   "source": [
    "# separate opening price to train the model\n",
    "train = stock_train.iloc[:, 1:2].values"
   ]
  },
  {
   "cell_type": "markdown",
   "id": "4f45f108",
   "metadata": {},
   "source": [
    "Out data has values ranging widely. For efficient training, it is advisable to normalize the data into the range 0 to 1. We do this next,"
   ]
  },
  {
   "cell_type": "code",
   "execution_count": 20,
   "id": "be045bf5",
   "metadata": {},
   "outputs": [],
   "source": [
    "# normalization\n",
    "scaler = MinMaxScaler(feature_range =(0,1))\n",
    "scaled_train = scaler.fit_transform(train)"
   ]
  },
  {
   "cell_type": "markdown",
   "id": "9dab66fc",
   "metadata": {},
   "source": [
    "Now, we separate the training data into features and target for modelling purposes, and then reshape them appropriately."
   ]
  },
  {
   "cell_type": "code",
   "execution_count": 21,
   "id": "47b455bc",
   "metadata": {},
   "outputs": [],
   "source": [
    "# separate the training data into features and target\n",
    "X_train = []\n",
    "y_train = []\n",
    "for i in range(60, 1258):\n",
    "    X_train.append(scaled_train[i-60:i, 0])\n",
    "    y_train.append(scaled_train[i, 0])\n",
    "\n",
    "X_train = np.array(X_train)\n",
    "y_train = np.array(y_train)"
   ]
  },
  {
   "cell_type": "code",
   "execution_count": 22,
   "id": "5879951d",
   "metadata": {},
   "outputs": [
    {
     "data": {
      "text/plain": [
       "(1198, 60, 1)"
      ]
     },
     "execution_count": 22,
     "metadata": {},
     "output_type": "execute_result"
    }
   ],
   "source": [
    "# reshaping\n",
    "X_train = np.reshape(X_train, (X_train.shape[0], X_train.shape[1], 1))\n",
    "X_train.shape"
   ]
  },
  {
   "cell_type": "markdown",
   "id": "b57a34c5",
   "metadata": {},
   "source": [
    "> ## Building the LSTM Neural Network\n",
    "\n",
    "We build the network architecture using the layers as imported from `keras` earlier. We use the `Sequential()` class in `keras` to create the neural network."
   ]
  },
  {
   "cell_type": "code",
   "execution_count": 23,
   "id": "f6adb70c",
   "metadata": {},
   "outputs": [],
   "source": [
    "# building the neural network\n",
    "model = Sequential()\n",
    "model.add(LSTM(units=50, return_sequences=True, input_shape=(X_train.shape[1], 1)))\n",
    "model.add(Dropout(0.2))\n",
    "model.add(LSTM(units=50, return_sequences=True))\n",
    "model.add(Dropout(0.2))\n",
    "model.add(LSTM(units=50, return_sequences=True))\n",
    "model.add(Dropout(0.2))\n",
    "model.add(LSTM(units=50))\n",
    "model.add(Dropout(0.2))\n",
    "model.add(Dense(units=1))"
   ]
  },
  {
   "cell_type": "markdown",
   "id": "7ed4a34d",
   "metadata": {},
   "source": [
    "> ## Implementing the model\n",
    "\n",
    "It is a two-step process :\n",
    "1. Compiling the model using `compile()` method\n",
    "2. Training the model using `fit()` method"
   ]
  },
  {
   "cell_type": "code",
   "execution_count": 24,
   "id": "bed2850e",
   "metadata": {},
   "outputs": [
    {
     "name": "stdout",
     "output_type": "stream",
     "text": [
      "Epoch 1/100\n",
      "38/38 [==============================] - 21s 132ms/step - loss: 0.0372\n",
      "Epoch 2/100\n",
      "38/38 [==============================] - 4s 117ms/step - loss: 0.0063\n",
      "Epoch 3/100\n",
      "38/38 [==============================] - 8s 208ms/step - loss: 0.0055\n",
      "Epoch 4/100\n",
      "38/38 [==============================] - 8s 208ms/step - loss: 0.0052\n",
      "Epoch 5/100\n",
      "38/38 [==============================] - 7s 193ms/step - loss: 0.0052\n",
      "Epoch 6/100\n",
      "38/38 [==============================] - 5s 133ms/step - loss: 0.0046\n",
      "Epoch 7/100\n",
      "38/38 [==============================] - 7s 181ms/step - loss: 0.0047\n",
      "Epoch 8/100\n",
      "38/38 [==============================] - 5s 142ms/step - loss: 0.0044\n",
      "Epoch 9/100\n",
      "38/38 [==============================] - 5s 126ms/step - loss: 0.0041\n",
      "Epoch 10/100\n",
      "38/38 [==============================] - 5s 138ms/step - loss: 0.0046\n",
      "Epoch 11/100\n",
      "38/38 [==============================] - 6s 146ms/step - loss: 0.0038\n",
      "Epoch 12/100\n",
      "38/38 [==============================] - 5s 125ms/step - loss: 0.0047\n",
      "Epoch 13/100\n",
      "38/38 [==============================] - 6s 145ms/step - loss: 0.0043\n",
      "Epoch 14/100\n",
      "38/38 [==============================] - 4s 109ms/step - loss: 0.0046\n",
      "Epoch 15/100\n",
      "38/38 [==============================] - 5s 138ms/step - loss: 0.0040\n",
      "Epoch 16/100\n",
      "38/38 [==============================] - 6s 152ms/step - loss: 0.0041\n",
      "Epoch 17/100\n",
      "38/38 [==============================] - 7s 170ms/step - loss: 0.0037\n",
      "Epoch 18/100\n",
      "38/38 [==============================] - 5s 136ms/step - loss: 0.0036\n",
      "Epoch 19/100\n",
      "38/38 [==============================] - 6s 149ms/step - loss: 0.0035\n",
      "Epoch 20/100\n",
      "38/38 [==============================] - 4s 114ms/step - loss: 0.0031\n",
      "Epoch 21/100\n",
      "38/38 [==============================] - 6s 165ms/step - loss: 0.0036\n",
      "Epoch 22/100\n",
      "38/38 [==============================] - 8s 215ms/step - loss: 0.0039\n",
      "Epoch 23/100\n",
      "38/38 [==============================] - 5s 135ms/step - loss: 0.0034\n",
      "Epoch 24/100\n",
      "38/38 [==============================] - 5s 136ms/step - loss: 0.0030\n",
      "Epoch 25/100\n",
      "38/38 [==============================] - 6s 159ms/step - loss: 0.0031\n",
      "Epoch 26/100\n",
      "38/38 [==============================] - 6s 157ms/step - loss: 0.0030\n",
      "Epoch 27/100\n",
      "38/38 [==============================] - 6s 146ms/step - loss: 0.0035\n",
      "Epoch 28/100\n",
      "38/38 [==============================] - 5s 132ms/step - loss: 0.0028\n",
      "Epoch 29/100\n",
      "38/38 [==============================] - 4s 118ms/step - loss: 0.0027\n",
      "Epoch 30/100\n",
      "38/38 [==============================] - 5s 119ms/step - loss: 0.0027\n",
      "Epoch 31/100\n",
      "38/38 [==============================] - 4s 109ms/step - loss: 0.0031\n",
      "Epoch 32/100\n",
      "38/38 [==============================] - 4s 105ms/step - loss: 0.0031\n",
      "Epoch 33/100\n",
      "38/38 [==============================] - 5s 119ms/step - loss: 0.0028\n",
      "Epoch 34/100\n",
      "38/38 [==============================] - 4s 115ms/step - loss: 0.0033\n",
      "Epoch 35/100\n",
      "38/38 [==============================] - 4s 105ms/step - loss: 0.0031\n",
      "Epoch 36/100\n",
      "38/38 [==============================] - 4s 102ms/step - loss: 0.0027\n",
      "Epoch 37/100\n",
      "38/38 [==============================] - 5s 130ms/step - loss: 0.0028\n",
      "Epoch 38/100\n",
      "38/38 [==============================] - 6s 154ms/step - loss: 0.0025\n",
      "Epoch 39/100\n",
      "38/38 [==============================] - 6s 170ms/step - loss: 0.0027\n",
      "Epoch 40/100\n",
      "38/38 [==============================] - 5s 129ms/step - loss: 0.0027\n",
      "Epoch 41/100\n",
      "38/38 [==============================] - 4s 107ms/step - loss: 0.0029\n",
      "Epoch 42/100\n",
      "38/38 [==============================] - 4s 108ms/step - loss: 0.0024\n",
      "Epoch 43/100\n",
      "38/38 [==============================] - 5s 139ms/step - loss: 0.0023\n",
      "Epoch 44/100\n",
      "38/38 [==============================] - 4s 103ms/step - loss: 0.0025\n",
      "Epoch 45/100\n",
      "38/38 [==============================] - 4s 106ms/step - loss: 0.0025\n",
      "Epoch 46/100\n",
      "38/38 [==============================] - 4s 114ms/step - loss: 0.0024\n",
      "Epoch 47/100\n",
      "38/38 [==============================] - 4s 106ms/step - loss: 0.0023\n",
      "Epoch 48/100\n",
      "38/38 [==============================] - 4s 115ms/step - loss: 0.0025\n",
      "Epoch 49/100\n",
      "38/38 [==============================] - 4s 109ms/step - loss: 0.0023\n",
      "Epoch 50/100\n",
      "38/38 [==============================] - 4s 111ms/step - loss: 0.0027\n",
      "Epoch 51/100\n",
      "38/38 [==============================] - 5s 136ms/step - loss: 0.0023\n",
      "Epoch 52/100\n",
      "38/38 [==============================] - 6s 147ms/step - loss: 0.0023\n",
      "Epoch 53/100\n",
      "38/38 [==============================] - 4s 113ms/step - loss: 0.0022\n",
      "Epoch 54/100\n",
      "38/38 [==============================] - 7s 186ms/step - loss: 0.0023\n",
      "Epoch 55/100\n",
      "38/38 [==============================] - 5s 133ms/step - loss: 0.0025\n",
      "Epoch 56/100\n",
      "38/38 [==============================] - 4s 113ms/step - loss: 0.0022\n",
      "Epoch 57/100\n",
      "38/38 [==============================] - 4s 110ms/step - loss: 0.0023\n",
      "Epoch 58/100\n",
      "38/38 [==============================] - 7s 178ms/step - loss: 0.0021\n",
      "Epoch 59/100\n",
      "38/38 [==============================] - 5s 132ms/step - loss: 0.0021\n",
      "Epoch 60/100\n",
      "38/38 [==============================] - 4s 110ms/step - loss: 0.0021\n",
      "Epoch 61/100\n",
      "38/38 [==============================] - 5s 126ms/step - loss: 0.0020\n",
      "Epoch 62/100\n",
      "38/38 [==============================] - 5s 119ms/step - loss: 0.0022\n",
      "Epoch 63/100\n",
      "38/38 [==============================] - 4s 104ms/step - loss: 0.0019\n",
      "Epoch 64/100\n",
      "38/38 [==============================] - 4s 101ms/step - loss: 0.0019\n",
      "Epoch 65/100\n",
      "38/38 [==============================] - 5s 117ms/step - loss: 0.0018\n",
      "Epoch 66/100\n",
      "38/38 [==============================] - 5s 137ms/step - loss: 0.0019\n",
      "Epoch 67/100\n",
      "38/38 [==============================] - 5s 120ms/step - loss: 0.0020\n",
      "Epoch 68/100\n",
      "38/38 [==============================] - 5s 122ms/step - loss: 0.0019\n",
      "Epoch 69/100\n",
      "38/38 [==============================] - 5s 134ms/step - loss: 0.0019\n",
      "Epoch 70/100\n",
      "38/38 [==============================] - 6s 156ms/step - loss: 0.0019\n",
      "Epoch 71/100\n",
      "38/38 [==============================] - 6s 149ms/step - loss: 0.0019\n",
      "Epoch 72/100\n",
      "38/38 [==============================] - 7s 172ms/step - loss: 0.0019\n",
      "Epoch 73/100\n",
      "38/38 [==============================] - 5s 141ms/step - loss: 0.0018\n",
      "Epoch 74/100\n",
      "38/38 [==============================] - 6s 158ms/step - loss: 0.0019\n",
      "Epoch 75/100\n",
      "38/38 [==============================] - 5s 142ms/step - loss: 0.0017\n",
      "Epoch 76/100\n",
      "38/38 [==============================] - 5s 123ms/step - loss: 0.0019\n",
      "Epoch 77/100\n",
      "38/38 [==============================] - 4s 116ms/step - loss: 0.0017\n",
      "Epoch 78/100\n",
      "38/38 [==============================] - 5s 125ms/step - loss: 0.0019\n",
      "Epoch 79/100\n",
      "38/38 [==============================] - 5s 125ms/step - loss: 0.0017\n",
      "Epoch 80/100\n",
      "38/38 [==============================] - 4s 112ms/step - loss: 0.0017\n",
      "Epoch 81/100\n",
      "38/38 [==============================] - 4s 107ms/step - loss: 0.0017\n",
      "Epoch 82/100\n",
      "38/38 [==============================] - 4s 107ms/step - loss: 0.0017\n",
      "Epoch 83/100\n",
      "38/38 [==============================] - 4s 116ms/step - loss: 0.0018\n",
      "Epoch 84/100\n",
      "38/38 [==============================] - 4s 109ms/step - loss: 0.0018\n",
      "Epoch 85/100\n",
      "38/38 [==============================] - 4s 106ms/step - loss: 0.0020\n",
      "Epoch 86/100\n",
      "38/38 [==============================] - 4s 107ms/step - loss: 0.0018\n",
      "Epoch 87/100\n",
      "38/38 [==============================] - 7s 176ms/step - loss: 0.0016\n",
      "Epoch 88/100\n",
      "38/38 [==============================] - 5s 142ms/step - loss: 0.0014\n",
      "Epoch 89/100\n",
      "38/38 [==============================] - 5s 125ms/step - loss: 0.0015\n",
      "Epoch 90/100\n",
      "38/38 [==============================] - 5s 129ms/step - loss: 0.0015\n",
      "Epoch 91/100\n",
      "38/38 [==============================] - 5s 127ms/step - loss: 0.0014\n",
      "Epoch 92/100\n",
      "38/38 [==============================] - 5s 136ms/step - loss: 0.0017\n",
      "Epoch 93/100\n",
      "38/38 [==============================] - 6s 156ms/step - loss: 0.0014\n",
      "Epoch 94/100\n",
      "38/38 [==============================] - 5s 126ms/step - loss: 0.0016\n",
      "Epoch 95/100\n",
      "38/38 [==============================] - 5s 121ms/step - loss: 0.0015\n",
      "Epoch 96/100\n",
      "38/38 [==============================] - 5s 125ms/step - loss: 0.0014\n",
      "Epoch 97/100\n",
      "38/38 [==============================] - 5s 124ms/step - loss: 0.0016\n",
      "Epoch 98/100\n",
      "38/38 [==============================] - 5s 141ms/step - loss: 0.0013\n",
      "Epoch 99/100\n",
      "38/38 [==============================] - 5s 133ms/step - loss: 0.0015\n",
      "Epoch 100/100\n",
      "38/38 [==============================] - 5s 131ms/step - loss: 0.0015\n"
     ]
    },
    {
     "data": {
      "text/plain": [
       "<keras.src.callbacks.History at 0x137263290>"
      ]
     },
     "execution_count": 24,
     "metadata": {},
     "output_type": "execute_result"
    }
   ],
   "source": [
    "# fitting the model\n",
    "model.compile(optimizer='adam', \n",
    "             loss='mean_squared_error')\n",
    "\n",
    "model.fit(X_train, y_train, epochs=100, batch_size=32)"
   ]
  },
  {
   "cell_type": "markdown",
   "id": "c04cc62e",
   "metadata": {},
   "source": [
    "> ## Model Predictions\n",
    "\n",
    "We now validate the model by making it predict the stock prices for January 2017, the actual stock price data of which we have in another csv file `Google_Stock_Price_Test.csv`. We load it into a `DataFrame`, prepare the inputs for the model in proper shape and have the model predict the prices."
   ]
  },
  {
   "cell_type": "code",
   "execution_count": 25,
   "id": "f91dc1ea",
   "metadata": {},
   "outputs": [],
   "source": [
    "# extract price of January 2017 as test data for validation\n",
    "stock_test = pd.read_csv('Google_Stock_Price_Test.csv')\n",
    "stock_actual = stock_test.iloc[:, 1:2].values"
   ]
  },
  {
   "cell_type": "code",
   "execution_count": 26,
   "id": "2cd0cdf5",
   "metadata": {},
   "outputs": [],
   "source": [
    "# preparing input for model\n",
    "stock = pd.concat((stock_train['Open'], stock_test['Open']), axis=0)\n",
    "inputs = stock[len(stock) - len(stock_test)-60:].values\n",
    "inputs = inputs.reshape(-1, 1)\n",
    "inputs = scaler.transform(inputs)\n",
    "\n",
    "X_test = []\n",
    "for i in range(60, 80):\n",
    "    X_test.append(inputs[i-60:i, 0])\n",
    "\n",
    "X_test = np.array(X_test)\n",
    "X_test = np.reshape(X_test, (X_test.shape[0], X_test.shape[1], 1))"
   ]
  },
  {
   "cell_type": "code",
   "execution_count": 27,
   "id": "64a1f747",
   "metadata": {},
   "outputs": [
    {
     "name": "stdout",
     "output_type": "stream",
     "text": [
      "1/1 [==============================] - 3s 3s/step\n"
     ]
    }
   ],
   "source": [
    "# predicting prices for Jan 2017\n",
    "predictions = model.predict(X_test)\n",
    "predictions = scaler.inverse_transform(predictions)"
   ]
  },
  {
   "cell_type": "markdown",
   "id": "d4ecddbd",
   "metadata": {},
   "source": [
    "Having gathered the stock price predictions of our model for the month of January 2017, let us now plot them together with the actual stock prices to see the comparison."
   ]
  },
  {
   "cell_type": "code",
   "execution_count": 28,
   "id": "ce3b4e87",
   "metadata": {},
   "outputs": [
    {
     "data": {
      "text/plain": [
       "<matplotlib.legend.Legend at 0x138989110>"
      ]
     },
     "execution_count": 28,
     "metadata": {},
     "output_type": "execute_result"
    },
    {
     "data": {
      "image/png": "[encoded data removed]",
      "text/plain": [
       "<Figure size 640x480 with 1 Axes>"
      ]
     },
     "metadata": {},
     "output_type": "display_data"
    }
   ],
   "source": [
    "# actual prices vs. predicted prices\n",
    "plt.plot(stock_actual, \n",
    "         color='red', \n",
    "         label='Actual Google Stock Price')\n",
    "plt.plot(predictions, \n",
    "         color='blue', \n",
    "         label='Predicted Google Stock Price')\n",
    "plt.title('Google Stock Price Prediction')\n",
    "plt.xlabel('Time')\n",
    "plt.ylabel('Stock price')\n",
    "plt.legend()"
   ]
  },
  {
   "cell_type": "markdown",
   "id": "e189ad30",
   "metadata": {},
   "source": [
    "Thus, our LSTM model has been able to predict the general pattern of stock prices."
   ]
  }
 ],
 "metadata": {
  "kernelspec": {
   "display_name": "Python 3 (ipykernel)",
   "language": "python",
   "name": "python3"
  },
  "language_info": {
   "codemirror_mode": {
    "name": "ipython",
    "version": 3
   },
   "file_extension": ".py",
   "mimetype": "text/x-python",
   "name": "python",
   "nbconvert_exporter": "python",
   "pygments_lexer": "ipython3",
   "version": "3.11.4"
  }
 },
 "nbformat": 4,
 "nbformat_minor": 5
}
