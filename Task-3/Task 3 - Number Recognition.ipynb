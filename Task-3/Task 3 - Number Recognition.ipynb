{
 "cells": [
  {
   "cell_type": "markdown",
   "id": "637d8384",
   "metadata": {},
   "source": [
    "# Task 3 - Number Recognition\n",
    "\n",
    "*Varad Deshmukh*\n",
    "\n",
    "**Instructions** : Handwritten digit recognition system detects scanned images of handwritten digits. Handwritten digit recognition using MNIST dataset is a major project made with the help of Neural Network. It basically detects the scanned images of handwritten digits."
   ]
  },
  {
   "cell_type": "markdown",
   "id": "9575a23c",
   "metadata": {},
   "source": [
    "> ## The MNIST Dataset\n",
    "\n",
    "The Modified National Institute of Standards and Technology (MNIST) dataset is widely used in deep learning for handwritten digits classification projects. It has 70,000 samples of handwritten digits, used to train the neural network.\n",
    "\n",
    "We built a deep neural network on the MNIST dataset using `keras`. Specifically, we create a Multilayer Perceptron, meaning a fully connected network, wherein each neuron in one layer is connected to all neurons in the next layer. To train and validate the neural network, the MNIST dataset is used."
   ]
  },
  {
   "cell_type": "markdown",
   "id": "49cc3221",
   "metadata": {},
   "source": [
    "> ## Importing the libraries"
   ]
  },
  {
   "cell_type": "code",
   "execution_count": 1,
   "id": "fff9b895",
   "metadata": {},
   "outputs": [
    {
     "name": "stderr",
     "output_type": "stream",
     "text": [
      "2023-10-29 12:01:48.192013: I tensorflow/core/platform/cpu_feature_guard.cc:182] This TensorFlow binary is optimized to use available CPU instructions in performance-critical operations.\n",
      "To enable the following instructions: AVX2 FMA, in other operations, rebuild TensorFlow with the appropriate compiler flags.\n"
     ]
    }
   ],
   "source": [
    "# import necessary libraries and modules\n",
    "import numpy as np\n",
    "import pandas as pd\n",
    "import matplotlib.pyplot as plt\n",
    "\n",
    "from keras.models import Sequential\n",
    "from keras.layers import Dense, Activation, Dropout\n",
    "from keras.utils import to_categorical, plot_model\n",
    "from keras.optimizers import Adam, RMSprop\n",
    "from keras import backend as K"
   ]
  },
  {
   "cell_type": "markdown",
   "id": "656c42c6",
   "metadata": {},
   "source": [
    "> ## Loading the dataset\n",
    "\n",
    "For loading the MNIST dataset, we use the API provided within `keras` to download and extract the images and labels automatically. Once the data is loaded, we count the number of labels for the training and test data."
   ]
  },
  {
   "cell_type": "code",
   "execution_count": 4,
   "id": "e33768cd",
   "metadata": {},
   "outputs": [
    {
     "name": "stdout",
     "output_type": "stream",
     "text": [
      "Downloading data from https://storage.googleapis.com/tensorflow/tf-keras-datasets/mnist.npz\n",
      "11490434/11490434 [==============================] - 36s 3us/step\n"
     ]
    }
   ],
   "source": [
    "# import the dataset and load it\n",
    "from keras.datasets import mnist\n",
    "(X_train, y_train), (X_test, y_test) = mnist.load_data()"
   ]
  },
  {
   "cell_type": "code",
   "execution_count": 5,
   "id": "e70dcfb2",
   "metadata": {},
   "outputs": [
    {
     "name": "stdout",
     "output_type": "stream",
     "text": [
      "Train labels :  {0: 5923, 1: 6742, 2: 5958, 3: 6131, 4: 5842, 5: 5421, 6: 5918, 7: 6265, 8: 5851, 9: 5949}\n"
     ]
    }
   ],
   "source": [
    "# count the number of unique train labels\n",
    "unique, counts = np.unique(y_train, return_counts=True)\n",
    "print('Train labels : ', dict(zip(unique, counts)))"
   ]
  },
  {
   "cell_type": "code",
   "execution_count": 6,
   "id": "8a0557d6",
   "metadata": {},
   "outputs": [
    {
     "name": "stdout",
     "output_type": "stream",
     "text": [
      "Test labels :  {0: 980, 1: 1135, 2: 1032, 3: 1010, 4: 982, 5: 892, 6: 958, 7: 1028, 8: 974, 9: 1009}\n"
     ]
    }
   ],
   "source": [
    "# count the number of unique train labels\n",
    "unique, counts = np.unique(y_test, return_counts=True)\n",
    "print('Test labels : ', dict(zip(unique, counts)))"
   ]
  },
  {
   "cell_type": "markdown",
   "id": "718c2078",
   "metadata": {},
   "source": [
    "> ## Data Visualisation\n",
    "\n",
    "We select 10 random samples from the MNIST dataset and visualise them."
   ]
  },
  {
   "cell_type": "code",
   "execution_count": 10,
   "id": "3d88fc3a",
   "metadata": {},
   "outputs": [],
   "source": [
    "# sample 10 mnist digits from the training dataset\n",
    "indexes = np.random.randint(0, X_train.shape[0], size=10)\n",
    "images = X_train[indexes]\n",
    "labels = y_train[indexes]"
   ]
  },
  {
   "cell_type": "code",
   "execution_count": 12,
   "id": "fa450d3f",
   "metadata": {},
   "outputs": [
    {
     "data": {
      "image/png": "[encoded data removed]",
      "text/plain": [
       "<Figure size 500x200 with 10 Axes>"
      ]
     },
     "metadata": {},
     "output_type": "display_data"
    }
   ],
   "source": [
    "# plot the 10 sample mnist digits\n",
    "plt.figure(figsize=(5, 2))\n",
    "for i in range(len(indexes)):\n",
    "    plt.subplot(5, 2, i+1)\n",
    "    image = images[i]\n",
    "    plt.imshow(image, cmap='gray')\n",
    "    plt.axis('off')"
   ]
  },
  {
   "cell_type": "markdown",
   "id": "ff47074f",
   "metadata": {},
   "source": [
    "> ## Building the Multilayer Perceptron using `keras`\n",
    "\n",
    "We move forward to build the model. First we have to import the `keras` layers, which we have already done. Then we compute the number of labels, since the data should be in a correct shape and format."
   ]
  },
  {
   "cell_type": "code",
   "execution_count": 13,
   "id": "2f1ede15",
   "metadata": {},
   "outputs": [],
   "source": [
    "# compute the number of labels\n",
    "num_labels = len(np.unique(y_train))"
   ]
  },
  {
   "cell_type": "markdown",
   "id": "8e0dfe6e",
   "metadata": {},
   "source": [
    "> ## One-Hot Encoding\n",
    "\n",
    "The labels for the digits in the dataset are in the form of digits, 0 to 9. For feeding these labels into the neural network to train the model, we need to encode these, just as we do with the categorical variables. We employ the One-Hot Enncoding technique for the purpose, using the `to_categorical()` utility in `keras`."
   ]
  },
  {
   "cell_type": "code",
   "execution_count": 14,
   "id": "a7399daf",
   "metadata": {},
   "outputs": [],
   "source": [
    "# one-hot encoding\n",
    "y_train = to_categorical(y_train)\n",
    "y_test = to_categorical(y_test)"
   ]
  },
  {
   "cell_type": "markdown",
   "id": "8737d9fc",
   "metadata": {},
   "source": [
    "> ## Data Preprocessing\n",
    "\n",
    "We now compute the dimensions of the images and scale and normalize the pixel value which runs from 0 to 255 into 0 to 1. This makes training easier."
   ]
  },
  {
   "cell_type": "code",
   "execution_count": 15,
   "id": "7e098438",
   "metadata": {},
   "outputs": [
    {
     "data": {
      "text/plain": [
       "784"
      ]
     },
     "execution_count": 15,
     "metadata": {},
     "output_type": "execute_result"
    }
   ],
   "source": [
    "#image dimensions\n",
    "image_size = X_train.shape[1]\n",
    "input_size = image_size * image_size\n",
    "input_size"
   ]
  },
  {
   "cell_type": "code",
   "execution_count": 19,
   "id": "93d26083",
   "metadata": {},
   "outputs": [],
   "source": [
    "# resizing and normalizing\n",
    "X_train = np.reshape(X_train, [-1, input_size])\n",
    "X_train = X_train.astype('float32')\n",
    "X_test = np.reshape(X_test, [-1, input_size])\n",
    "X_test = X_test.astype('float32')"
   ]
  },
  {
   "cell_type": "markdown",
   "id": "7dab3027",
   "metadata": {},
   "source": [
    "> ## Network Architecture\n",
    "\n",
    "We now set the network parameters, i.e the batch size, number of hidden units and the dropout rate."
   ]
  },
  {
   "cell_type": "code",
   "execution_count": 20,
   "id": "0a261962",
   "metadata": {},
   "outputs": [],
   "source": [
    "# network parameters\n",
    "batch_size = 128\n",
    "hidden_units = 256\n",
    "dropout = 0.45"
   ]
  },
  {
   "cell_type": "markdown",
   "id": "24455e05",
   "metadata": {},
   "source": [
    "We now design the model architecture. It will have three layers. We use the `Sequential()` class in `keras` to create the neural network."
   ]
  },
  {
   "cell_type": "code",
   "execution_count": 21,
   "id": "d022e6a2",
   "metadata": {},
   "outputs": [],
   "source": [
    "# designing the model\n",
    "model = Sequential()\n",
    "model.add(Dense(hidden_units, input_dim=input_size))\n",
    "model.add(Activation('relu'))\n",
    "model.add(Dropout(dropout))\n",
    "model.add(Dense(hidden_units))\n",
    "model.add(Activation('relu'))\n",
    "model.add(Dropout(dropout))\n",
    "model.add(Dense(num_labels))\n",
    "model.add(Activation('softmax'))"
   ]
  },
  {
   "cell_type": "markdown",
   "id": "09447f61",
   "metadata": {},
   "source": [
    "Now, we view the model summary using the `summary()` method of `keras`."
   ]
  },
  {
   "cell_type": "code",
   "execution_count": 22,
   "id": "2a343a9f",
   "metadata": {},
   "outputs": [
    {
     "name": "stdout",
     "output_type": "stream",
     "text": [
      "Model: \"sequential\"\n",
      "_________________________________________________________________\n",
      " Layer (type)                Output Shape              Param #   \n",
      "=================================================================\n",
      " dense (Dense)               (None, 256)               200960    \n",
      "                                                                 \n",
      " activation (Activation)     (None, 256)               0         \n",
      "                                                                 \n",
      " dropout (Dropout)           (None, 256)               0         \n",
      "                                                                 \n",
      " dense_1 (Dense)             (None, 256)               65792     \n",
      "                                                                 \n",
      " activation_1 (Activation)   (None, 256)               0         \n",
      "                                                                 \n",
      " dropout_1 (Dropout)         (None, 256)               0         \n",
      "                                                                 \n",
      " dense_2 (Dense)             (None, 10)                2570      \n",
      "                                                                 \n",
      " activation_2 (Activation)   (None, 10)                0         \n",
      "                                                                 \n",
      "=================================================================\n",
      "Total params: 269322 (1.03 MB)\n",
      "Trainable params: 269322 (1.03 MB)\n",
      "Non-trainable params: 0 (0.00 Byte)\n",
      "_________________________________________________________________\n"
     ]
    }
   ],
   "source": [
    "# model summary\n",
    "model.summary()"
   ]
  },
  {
   "cell_type": "markdown",
   "id": "7ed4a34d",
   "metadata": {},
   "source": [
    "> ## Implementing the model\n",
    "\n",
    "It is a three-step process :\n",
    "1. Compiling the model using `compile()` method\n",
    "2. Training the model using `fit()` method\n",
    "3. Evaluating the model performance using `evaluate()` method"
   ]
  },
  {
   "cell_type": "code",
   "execution_count": 23,
   "id": "76f20bd7",
   "metadata": {},
   "outputs": [],
   "source": [
    "# compile the model\n",
    "model.compile(loss='categorical_crossentropy', \n",
    "              optimizer='adam', \n",
    "              metrics=['accuracy'])"
   ]
  },
  {
   "cell_type": "code",
   "execution_count": 24,
   "id": "7e01add9",
   "metadata": {},
   "outputs": [
    {
     "name": "stdout",
     "output_type": "stream",
     "text": [
      "Epoch 1/20\n",
      "469/469 [==============================] - 5s 9ms/step - loss: 5.6436 - accuracy: 0.5606\n",
      "Epoch 2/20\n",
      "469/469 [==============================] - 5s 10ms/step - loss: 1.1915 - accuracy: 0.6736\n",
      "Epoch 3/20\n",
      "469/469 [==============================] - 4s 9ms/step - loss: 1.0022 - accuracy: 0.7265\n",
      "Epoch 4/20\n",
      "469/469 [==============================] - 4s 9ms/step - loss: 0.8566 - accuracy: 0.7733\n",
      "Epoch 5/20\n",
      "469/469 [==============================] - 4s 10ms/step - loss: 0.7088 - accuracy: 0.8164\n",
      "Epoch 6/20\n",
      "469/469 [==============================] - 5s 10ms/step - loss: 0.6100 - accuracy: 0.8448\n",
      "Epoch 7/20\n",
      "469/469 [==============================] - 4s 8ms/step - loss: 0.5328 - accuracy: 0.8629\n",
      "Epoch 8/20\n",
      "469/469 [==============================] - 4s 8ms/step - loss: 0.4708 - accuracy: 0.8773\n",
      "Epoch 9/20\n",
      "469/469 [==============================] - 3s 7ms/step - loss: 0.4336 - accuracy: 0.8874\n",
      "Epoch 10/20\n",
      "469/469 [==============================] - 4s 8ms/step - loss: 0.4123 - accuracy: 0.8941\n",
      "Epoch 11/20\n",
      "469/469 [==============================] - 4s 8ms/step - loss: 0.3836 - accuracy: 0.9019\n",
      "Epoch 12/20\n",
      "469/469 [==============================] - 5s 10ms/step - loss: 0.3588 - accuracy: 0.9075\n",
      "Epoch 13/20\n",
      "469/469 [==============================] - 5s 10ms/step - loss: 0.3409 - accuracy: 0.9108\n",
      "Epoch 14/20\n",
      "469/469 [==============================] - 4s 9ms/step - loss: 0.3306 - accuracy: 0.9153\n",
      "Epoch 15/20\n",
      "469/469 [==============================] - 6s 13ms/step - loss: 0.3228 - accuracy: 0.9171\n",
      "Epoch 16/20\n",
      "469/469 [==============================] - 5s 10ms/step - loss: 0.3121 - accuracy: 0.9203\n",
      "Epoch 17/20\n",
      "469/469 [==============================] - 4s 9ms/step - loss: 0.3090 - accuracy: 0.9211\n",
      "Epoch 18/20\n",
      "469/469 [==============================] - 4s 9ms/step - loss: 0.2970 - accuracy: 0.9242\n",
      "Epoch 19/20\n",
      "469/469 [==============================] - 5s 11ms/step - loss: 0.2938 - accuracy: 0.9251\n",
      "Epoch 20/20\n",
      "469/469 [==============================] - 5s 10ms/step - loss: 0.2910 - accuracy: 0.9261\n"
     ]
    },
    {
     "data": {
      "text/plain": [
       "<keras.src.callbacks.History at 0x135728390>"
      ]
     },
     "execution_count": 24,
     "metadata": {},
     "output_type": "execute_result"
    }
   ],
   "source": [
    "# train the model\n",
    "model.fit(X_train, y_train, epochs=20, batch_size=batch_size)"
   ]
  },
  {
   "cell_type": "code",
   "execution_count": 25,
   "id": "b6fb3cc9",
   "metadata": {},
   "outputs": [
    {
     "name": "stdout",
     "output_type": "stream",
     "text": [
      "79/79 [==============================] - 1s 5ms/step - loss: 0.1761 - accuracy: 0.9571\n",
      "The model test accuracy : 95.7%\n"
     ]
    }
   ],
   "source": [
    "# evaluate model performance\n",
    "loss, acc = model.evaluate(X_test, y_test, batch_size=batch_size)\n",
    "print('The model test accuracy : %.1f%%' % (100.0 * acc))"
   ]
  },
  {
   "cell_type": "markdown",
   "id": "0f8f5794",
   "metadata": {},
   "source": [
    "Thus, we get a test accuracy of 95.7%, which is extremely good, especially considering the small number of epochs that we run."
   ]
  }
 ],
 "metadata": {
  "kernelspec": {
   "display_name": "Python 3 (ipykernel)",
   "language": "python",
   "name": "python3"
  },
  "language_info": {
   "codemirror_mode": {
    "name": "ipython",
    "version": 3
   },
   "file_extension": ".py",
   "mimetype": "text/x-python",
   "name": "python",
   "nbconvert_exporter": "python",
   "pygments_lexer": "ipython3",
   "version": "3.11.4"
  }
 },
 "nbformat": 4,
 "nbformat_minor": 5
}
